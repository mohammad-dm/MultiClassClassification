{
 "cells": [
  {
   "cell_type": "markdown",
   "metadata": {},
   "source": [
    "Program trains 10 independent classifiers each capabal of recognizing one digit from 0 to 9 in the MNIST data set. \n",
    "loadmat from scipy.io is used to load the dataset from the .mat file.\n",
    "gradient descent is used to optimize the cost function \n",
    "After trying different learning rates to choose the proper one, an accuracy of % was achieved in the training set."
   ]
  },
  {
   "cell_type": "code",
   "execution_count": 1,
   "metadata": {},
   "outputs": [],
   "source": [
    "from scipy.io import loadmat\n",
    "import scipy.optimize as optimizer\n",
    "import matplotlib.pyplot as plt\n",
    "import numpy as np\n",
    "import math"
   ]
  },
  {
   "cell_type": "code",
   "execution_count": 2,
   "metadata": {},
   "outputs": [],
   "source": [
    "data = loadmat('ex3data1.mat')['X']\n",
    "Y = loadmat('ex3data1.mat')['y'].flatten()\n",
    "num_labels = 10"
   ]
  },
  {
   "cell_type": "code",
   "execution_count": 8,
   "metadata": {},
   "outputs": [],
   "source": [
    "def mnist_visualizer(x):\n",
    "    '''\n",
    "    imput is a (400,) array representing an mnist sample\n",
    "    Converts the sample to (20,20) data and plots the sample number\n",
    "    '''\n",
    "    y = np.empty(shape =(20,20))\n",
    "    for irow in range (20):\n",
    "        y[irow,:] = x[20*irow:20*(irow+1)]\n",
    "    w = 4\n",
    "    h = 3\n",
    "    d = 70\n",
    "    plt.figure(figsize=(w, h), dpi=d)\n",
    "    color_map = plt.imshow(np.transpose(y))\n",
    "    color_map.set_cmap(\"Blues_r\")\n",
    "    plt.colorbar()"
   ]
  },
  {
   "cell_type": "code",
   "execution_count": 13,
   "metadata": {},
   "outputs": [
    {
     "data": {
      "image/png": "[encoded data removed]",
      "text/plain": [
       "<Figure size 280x210 with 2 Axes>"
      ]
     },
     "metadata": {
      "needs_background": "light"
     },
     "output_type": "display_data"
    }
   ],
   "source": [
    "mnist_visualizer(data[1700])"
   ]
  },
  {
   "cell_type": "code",
   "execution_count": 14,
   "metadata": {},
   "outputs": [],
   "source": [
    "def sigmoid (x):\n",
    "    if type (x) == np.ndarray:\n",
    "        return 1/(1 + np.exp(-x))\n",
    "    else:\n",
    "        return 1/(1+math.exp(-x))\n",
    "def r_cost  (theta, X, y, lamda):\n",
    "    m = X.shape[0]\n",
    "    n = X.shape[1]\n",
    "    #Calculating yhat for all the points in X\n",
    "    h_theta = sigmoid ( X@theta )\n",
    "    #Calculating cost\n",
    "    cost = (1/m) * sum( -y*np.log10(h_theta) - (1-y)*np.log10(1-h_theta) )\n",
    "    #regularization effect\n",
    "    temp = theta\n",
    "    temp[0] = 0\n",
    "    cost += (lamda / (2 * m)) * np.sum(np.square(temp))\n",
    "    #Storing the difference between estimation and the labels in diff\n",
    "    diff = h_theta - y\n",
    "    gradients = (1/m) * (np.transpose (X) @ diff)\n",
    "    #Regularization effect\n",
    "    gradients = gradients + (lamda / m) * temp\n",
    "    return cost,gradients"
   ]
  },
  {
   "cell_type": "code",
   "execution_count": 15,
   "metadata": {},
   "outputs": [],
   "source": [
    "def oneVsAll(X, y, lamda, num_labels, alpha=0.2,iterations=1000):\n",
    "    \"\"\"\n",
    "    X is input data. constant coeffients will be added to it.\n",
    "    y is corresponding label. \n",
    "    lamda is regularization parameter\n",
    "    num_labels shows the number of target classes or \n",
    "    number of classifiers we intend to train\n",
    "    \"\"\"\n",
    "    m, n = X.shape\n",
    "    #Each row contains theta for one target class\n",
    "    #1 is added to the columns to add the constant \"theta_0\"\n",
    "    all_theta_graddescent = np.zeros((num_labels, n + 1))\n",
    "    all_theta_scipy = np.zeros((num_labels, n + 1))\n",
    "    #1 is added to the columns to add the constant \n",
    "    X = np.concatenate([np.ones((m, 1)), X], axis=1)\n",
    "    #Optimization using gradient descent\n",
    "    print (f'alpha is {alpha}')\n",
    "    for c in np.arange(num_labels):\n",
    "        y_class = np.array([1 if item==c else 0 for item in y]).reshape(y.shape)\n",
    "        initial_theta = np.zeros(n + 1)\n",
    "        #Choosing the appropriate learning rate\n",
    "        #print (f'class num trained  {c}')\n",
    "        theta = gradient_descent (X, initial_theta, y_class, alpha, iterations)\n",
    "        all_theta_graddescent[c] = theta\n",
    "    return all_theta_graddescent"
   ]
  },
  {
   "cell_type": "code",
   "execution_count": 16,
   "metadata": {},
   "outputs": [],
   "source": [
    "def gradient_descent (X, theta, Y, alpha=0.1, iterations=1500, lamda=3):\n",
    "    for counter in range (iterations):\n",
    "        #m is number of columns in X\n",
    "        m = X.shape[0]\n",
    "        cost, gradients = r_cost (theta, X, Y, lamda)\n",
    "        #Updating theta\n",
    "        new_theta = []\n",
    "        for i,gradient in enumerate (gradients):\n",
    "            new_theta.append( theta[i]-alpha*gradient)\n",
    "        theta = np.array(new_theta)\n",
    "    return theta"
   ]
  },
  {
   "cell_type": "code",
   "execution_count": 17,
   "metadata": {},
   "outputs": [],
   "source": [
    "def predictOneVsAll(all_theta, X):\n",
    "    '''\n",
    "    It takes the images and runs them through all 10 trained classifiers : sigmoid(X.dot(all_theta.T)\n",
    "    It out puts the index of the class with the highest probabilty using np.argmax()\n",
    "    '''\n",
    "    m = X.shape[0];\n",
    "    num_labels = all_theta.shape[0]\n",
    "    # You need to return the following variables correctly \n",
    "    p = np.zeros(m)\n",
    "    # Add ones to the X data matrix\n",
    "    X = np.concatenate([np.ones((m, 1)), X], axis=1)\n",
    "    # ====================== YOUR CODE HERE ======================\n",
    "    p = np.argmax(sigmoid(X.dot(all_theta.T)), axis = 1)\n",
    "    # ============================================================\n",
    "    return p"
   ]
  },
  {
   "cell_type": "code",
   "execution_count": 20,
   "metadata": {},
   "outputs": [
    {
     "name": "stdout",
     "output_type": "stream",
     "text": [
      "alpha is 0.1\n",
      "alpha is 0.5\n",
      "alpha is 0.8\n",
      "alpha is 1\n",
      "alpha is 1.5\n",
      "alpha is 1.8\n",
      "alpha is 2.1\n",
      "alpha is 2.5\n"
     ]
    }
   ],
   "source": [
    "alphas = [0.1,0.5,0.8,1,1.5,1.8,2.1,2.5]\n",
    "res = []\n",
    "lamda = 3\n",
    "for alpha in alphas:\n",
    "    all_theta = oneVsAll(data, Y, lamda, num_labels, alpha)\n",
    "    pred = predictOneVsAll(all_theta, data)\n",
    "    mean = np.mean(pred == Y) * 100\n",
    "    res.append ([alpha,mean])\n",
    "res = np.array (res)\n"
   ]
  },
  {
   "cell_type": "code",
   "execution_count": 21,
   "metadata": {},
   "outputs": [
    {
     "data": {
      "image/png": "[encoded data removed]",
      "text/plain": [
       "<Figure size 432x288 with 1 Axes>"
      ]
     },
     "metadata": {
      "needs_background": "light"
     },
     "output_type": "display_data"
    }
   ],
   "source": [
    "#iterations = 10000\n",
    "import matplotlib.pyplot as plt\n",
    "plt.scatter (res[:,0],res[:,1])\n",
    "plt.show()"
   ]
  },
  {
   "cell_type": "markdown",
   "metadata": {},
   "source": [
    "It seems that learning_rate = 2.5 gives the highest accuracy. So we train the network with that."
   ]
  },
  {
   "cell_type": "code",
   "execution_count": 22,
   "metadata": {},
   "outputs": [
    {
     "name": "stdout",
     "output_type": "stream",
     "text": [
      "alpha is 2.5\n"
     ]
    }
   ],
   "source": [
    "lamda=1\n",
    "alpha = 2.5\n",
    "all_theta = oneVsAll(data, Y, lamda, num_labels, alpha)\n",
    "pred = predictOneVsAll(all_theta, data)\n",
    "mean = np.mean(pred == Y) * 100"
   ]
  },
  {
   "cell_type": "markdown",
   "metadata": {},
   "source": [
    "Neural Networks\n",
    "In this exercise forward propagation is used to see how a neural network detects handwritten digits. \n",
    "Weights of each layer are loaded from a precalculated file. They will be calculated in the next exercise using backpropagation. "
   ]
  },
  {
   "cell_type": "code",
   "execution_count": 23,
   "metadata": {},
   "outputs": [],
   "source": [
    "def sigmoid (x):\n",
    "    if type (x) == np.ndarray:\n",
    "        return 1/(1 + np.exp(-x))\n",
    "    else:\n",
    "        return 1/(1+math.exp(-x))"
   ]
  },
  {
   "cell_type": "code",
   "execution_count": 24,
   "metadata": {},
   "outputs": [
    {
     "name": "stdout",
     "output_type": "stream",
     "text": [
      "500\n"
     ]
    }
   ],
   "source": [
    "input_layer_size  = 400  \n",
    "hidden_layer_size = 25   \n",
    "num_labels = 10\n",
    "X = loadmat('ex3data1.mat')['X']\n",
    "y = loadmat('ex3data1.mat')['y'].flatten()\n",
    "weights = loadmat('ex3weights.mat')\n",
    "Theta1, Theta2 = weights['Theta1'], weights['Theta2']\n",
    "counter_1 = 0\n",
    "for item in y:\n",
    "    if item==1:\n",
    "        counter_1 += 1\n",
    "print (counter_1)"
   ]
  },
  {
   "cell_type": "code",
   "execution_count": 25,
   "metadata": {},
   "outputs": [],
   "source": [
    "def predict(Theta1, Theta2, X):\n",
    "    m = X.shape[0]\n",
    "    num_labels = Theta2.shape[0]\n",
    "    p = np.zeros(X.shape[0])\n",
    "    X = np.concatenate([np.ones((m, 1)), X], axis=1)\n",
    "    a2 = sigmoid( X @  np.transpose(Theta1)  ) \n",
    "    a2 = np.concatenate([np.ones((a2.shape[0], 1)), a2], axis=1)\n",
    "    probs = sigmoid( a2 @   np.transpose(Theta2) )\n",
    "    p = np.argmax(probs, axis = 1)\n",
    "    return probs,p"
   ]
  },
  {
   "cell_type": "code",
   "execution_count": 26,
   "metadata": {},
   "outputs": [
    {
     "name": "stdout",
     "output_type": "stream",
     "text": [
      "p:[10 10 10 ...  9  9  9]\n",
      "False\n",
      "Training Set Accuracy: 97.5%\n",
      "[1.12661530e-04 1.74127856e-03 2.52696959e-03 1.84032321e-05\n",
      " 9.36263860e-03 3.99270267e-03 5.51517524e-03 4.01468105e-04\n",
      " 6.48072305e-03 9.95734012e-01]\n"
     ]
    }
   ],
   "source": [
    "probs, pred = predict(Theta1, Theta2, X)\n",
    "pred = pred + 1\n",
    "print (f'p:{pred}')\n",
    "print (0 in y)\n",
    "print('Training Set Accuracy: {:.1f}%'.format(np.mean(pred == y) * 100))\n",
    "print (probs[0])"
   ]
  },
  {
   "cell_type": "code",
   "execution_count": 27,
   "metadata": {},
   "outputs": [
    {
     "data": {
      "text/plain": [
       "((5000, 400), (25, 401), (10, 26))"
      ]
     },
     "execution_count": 27,
     "metadata": {},
     "output_type": "execute_result"
    }
   ],
   "source": [
    "X.shape, Theta1.shape, Theta2.shape"
   ]
  },
  {
   "cell_type": "code",
   "execution_count": 29,
   "metadata": {},
   "outputs": [
    {
     "name": "stdout",
     "output_type": "stream",
     "text": [
      "label 3\n",
      "pred 3\n"
     ]
    },
    {
     "data": {
      "image/png": "[encoded data removed]",
      "text/plain": [
       "<Figure size 280x210 with 2 Axes>"
      ]
     },
     "metadata": {
      "needs_background": "light"
     },
     "output_type": "display_data"
    }
   ],
   "source": [
    "item = 1900\n",
    "mnist_visualizer (X[item])\n",
    "print('label',y[item])\n",
    "print ('pred',pred [item])"
   ]
  },
  {
   "cell_type": "code",
   "execution_count": null,
   "metadata": {},
   "outputs": [],
   "source": []
  },
  {
   "cell_type": "code",
   "execution_count": null,
   "metadata": {},
   "outputs": [],
   "source": []
  }
 ],
 "metadata": {
  "kernelspec": {
   "display_name": "Python 3",
   "language": "python",
   "name": "python3"
  },
  "language_info": {
   "codemirror_mode": {
    "name": "ipython",
    "version": 3
   },
   "file_extension": ".py",
   "mimetype": "text/x-python",
   "name": "python",
   "nbconvert_exporter": "python",
   "pygments_lexer": "ipython3",
   "version": "3.8.3"
  }
 },
 "nbformat": 4,
 "nbformat_minor": 4
}
